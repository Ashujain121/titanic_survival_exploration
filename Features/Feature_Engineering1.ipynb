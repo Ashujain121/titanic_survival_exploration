{
 "cells": [
  {
   "cell_type": "markdown",
   "metadata": {},
   "source": [
    "# Compound Features from raw data\n",
    "One of the most important parameters that decide irrespective of the learning model used(Perceptron,Decision Trees etc.) is the features or the input data itself.\n",
    "If we can arrange the input data in a coherent way and do not take many features that convey more or less the same information we can improve the accuracy of our model to a great extent.\n",
    "For example the Title of a person Mr. ,Mrs. carry the same information as that of Sex.So it will be redundant if we account for both in our model.Instead we can extract Titles from Names by RegularExpression matcher"
   ]
  },
  {
   "cell_type": "code",
   "execution_count": null,
   "metadata": {
    "collapsed": true
   },
   "outputs": [],
   "source": [
    "import re\n",
    "def get_title(name):\n",
    "    search=re.search(' ([A-Za-z]+)\\.',name)\n",
    "    if search:\n",
    "        return search.group(1)\n",
    "        #.group returns the string matched by the regular expression if we find a valid one\n",
    "    return \"\""
   ]
  },
  {
   "cell_type": "code",
   "execution_count": null,
   "metadata": {
    "collapsed": true
   },
   "outputs": [],
   "source": [
    "get_title(\"Cumings, Mrs. John Bradley Florence Briggs Thayer\")\n",
    "#Demonstration"
   ]
  },
  {
   "cell_type": "markdown",
   "metadata": {},
   "source": [
    "We also make use of the fact that in the Names, the Title is always followed by a \".\"(which is why we use a escape sequence \"/\" to code it in our pattern)."
   ]
  },
  {
   "cell_type": "code",
   "execution_count": null,
   "metadata": {
    "collapsed": true
   },
   "outputs": [],
   "source": [
    "'''Now to see how much the features Sex and Title are correlated we will use Pearson's correlation matrix which shows\n",
    "correlation between two variables.One must also add a new column Title in the original sheet'''\n",
    "import pandas as pd\n",
    "train=pd.read_csv('../../titanic_data.csv')\n",
    "train.insert(len(train.columns),'Title',value=0)\n",
    "train.head()"
   ]
  },
  {
   "cell_type": "code",
   "execution_count": null,
   "metadata": {
    "collapsed": true
   },
   "outputs": [],
   "source": [
    "train['Title']=train['Name'].apply(get_title)"
   ]
  },
  {
   "cell_type": "code",
   "execution_count": null,
   "metadata": {
    "collapsed": true
   },
   "outputs": [],
   "source": [
    "train['Title'].head(3)\n",
    "#To check whether everything works fine or not"
   ]
  },
  {
   "cell_type": "code",
   "execution_count": null,
   "metadata": {
    "collapsed": true
   },
   "outputs": [],
   "source": [
    "label=set(train['Title'])\n",
    "#Checking no. of unique titles\n",
    "print(label)"
   ]
  },
  {
   "cell_type": "code",
   "execution_count": null,
   "metadata": {
    "collapsed": true
   },
   "outputs": [],
   "source": [
    "train['Title']=train['Title'].replace('Mlle','Miss')\n",
    "train['Title']=train['Title'].replace('Ms','Miss')\n",
    "train['Title']=train['Title'].replace('Mme','Miss')"
   ]
  },
  {
   "cell_type": "code",
   "execution_count": null,
   "metadata": {
    "collapsed": true
   },
   "outputs": [],
   "source": [
    "dict={\"Mr\": 1, \"Master\": 2, \"Mrs\": 3, \"Miss\": 4, \"Col\": 5,\n",
    "      \"Countess\":6,\"Don\":7,\"Sir\":8,\"Lady\":9,\"Capt\":10,\"Rev\":11\n",
    "      ,\"Jonkheer\":12,\"Major\":13,\"Dr\":14}\n",
    "unique_title=(\"Mr\",\"Master\",\"Mrs\",\"Miss\",\"Col\",\"Countess\"\n",
    "              ,\"Don\",\"Sir\",\"Lady\",\"Capt\",\"Rev\",\"Jonkheer\"\n",
    "              ,\"Major\",\"Dr\")\n",
    "            "
   ]
  },
  {
   "cell_type": "code",
   "execution_count": null,
   "metadata": {
    "collapsed": true
   },
   "outputs": [],
   "source": [
    "train[\"Title\"]=train['Title'].apply(lambda x:dict[x])"
   ]
  },
  {
   "cell_type": "code",
   "execution_count": null,
   "metadata": {
    "collapsed": true
   },
   "outputs": [],
   "source": [
    "import matplotlib.pyplot as plt\n",
    "plt.hist(train['Title'])\n",
    "plt.show()"
   ]
  },
  {
   "cell_type": "markdown",
   "metadata": {},
   "source": [
    "As we can see that the titles Jonkheer, Dr and others are rare we could just simply group them under a 'Rare' group"
   ]
  },
  {
   "cell_type": "code",
   "execution_count": null,
   "metadata": {
    "collapsed": true
   },
   "outputs": [],
   "source": [
    "train['Title'] = train['Title'].replace(['Lady', 'Countess','Capt', 'Col','Don', 'Dr', 'Major', 'Rev', 'Sir', 'Jonkheer', 'Dona'], 'Rare')\n",
    "#Replacing some similar titles and replacing the rare titles by 'Rare' tag"
   ]
  },
  {
   "cell_type": "code",
   "execution_count": null,
   "metadata": {
    "collapsed": true
   },
   "outputs": [],
   "source": [
    "'''From this feature by examinig the correlation matrix we can observe a few things and improve out the accuracy ,like\n",
    "most of the people who had a title Mr. died'''"
   ]
  }
 ],
 "metadata": {
  "kernelspec": {
   "display_name": "Python 3",
   "language": "python",
   "name": "python3"
  },
  "language_info": {
   "codemirror_mode": {
    "name": "ipython",
    "version": 3
   },
   "file_extension": ".py",
   "mimetype": "text/x-python",
   "name": "python",
   "nbconvert_exporter": "python",
   "pygments_lexer": "ipython3",
   "version": "3.6.1"
  }
 },
 "nbformat": 4,
 "nbformat_minor": 2
}
